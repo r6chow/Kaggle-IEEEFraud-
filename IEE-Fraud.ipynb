{
 "cells": [
  {
   "cell_type": "code",
   "execution_count": 1,
   "metadata": {},
   "outputs": [],
   "source": [
    "import numpy as np\n",
    "import pandas as pd\n",
    "\n",
    "from xgboost import XGBClassifier\n",
    "from sklearn.model_selection import train_test_split\n",
    "from sklearn.impute import SimpleImputer\n",
    "from sklearn.preprocessing import StandardScaler\n",
    "from sklearn.linear_model import LogisticRegression\n",
    "from sklearn.ensemble import RandomForestRegressor\n",
    "from sklearn.metrics import mean_absolute_error"
   ]
  },
  {
   "cell_type": "code",
   "execution_count": 2,
   "metadata": {},
   "outputs": [],
   "source": [
    "train_id_df = pd.read_csv('data/train_identity.csv')\n",
    "test_id_df = pd.read_csv('data/test_identity.csv')\n",
    "\n",
    "train_transaction_df = pd.read_csv('data/train_transaction.csv')\n",
    "test_transaction_df = pd.read_csv('data/test_transaction.csv')\n",
    "\n"
   ]
  },
  {
   "cell_type": "code",
   "execution_count": 3,
   "metadata": {},
   "outputs": [],
   "source": [
    "train_transaction_y = train_transaction_df.isFraud\n",
    "train_transaction_df.drop('isFraud', axis=1, inplace=True)"
   ]
  },
  {
   "cell_type": "code",
   "execution_count": 4,
   "metadata": {},
   "outputs": [],
   "source": [
    "#train_id_df.head()"
   ]
  },
  {
   "cell_type": "code",
   "execution_count": 5,
   "metadata": {},
   "outputs": [],
   "source": [
    "#train_id_df.describe().transpose()"
   ]
  },
  {
   "cell_type": "code",
   "execution_count": 6,
   "metadata": {},
   "outputs": [
    {
     "data": {
      "text/html": [
       "<div>\n",
       "<style scoped>\n",
       "    .dataframe tbody tr th:only-of-type {\n",
       "        vertical-align: middle;\n",
       "    }\n",
       "\n",
       "    .dataframe tbody tr th {\n",
       "        vertical-align: top;\n",
       "    }\n",
       "\n",
       "    .dataframe thead th {\n",
       "        text-align: right;\n",
       "    }\n",
       "</style>\n",
       "<table border=\"1\" class=\"dataframe\">\n",
       "  <thead>\n",
       "    <tr style=\"text-align: right;\">\n",
       "      <th></th>\n",
       "      <th>count</th>\n",
       "      <th>mean</th>\n",
       "      <th>std</th>\n",
       "      <th>min</th>\n",
       "      <th>25%</th>\n",
       "      <th>50%</th>\n",
       "      <th>75%</th>\n",
       "      <th>max</th>\n",
       "    </tr>\n",
       "  </thead>\n",
       "  <tbody>\n",
       "    <tr>\n",
       "      <td>TransactionID</td>\n",
       "      <td>590540.0</td>\n",
       "      <td>3.282270e+06</td>\n",
       "      <td>1.704744e+05</td>\n",
       "      <td>2987000.000</td>\n",
       "      <td>3134634.750</td>\n",
       "      <td>3282269.500</td>\n",
       "      <td>3429904.25</td>\n",
       "      <td>3.577539e+06</td>\n",
       "    </tr>\n",
       "    <tr>\n",
       "      <td>TransactionDT</td>\n",
       "      <td>590540.0</td>\n",
       "      <td>7.372311e+06</td>\n",
       "      <td>4.617224e+06</td>\n",
       "      <td>86400.000</td>\n",
       "      <td>3027057.750</td>\n",
       "      <td>7306527.500</td>\n",
       "      <td>11246620.00</td>\n",
       "      <td>1.581113e+07</td>\n",
       "    </tr>\n",
       "    <tr>\n",
       "      <td>TransactionAmt</td>\n",
       "      <td>590540.0</td>\n",
       "      <td>1.350272e+02</td>\n",
       "      <td>2.391625e+02</td>\n",
       "      <td>0.251</td>\n",
       "      <td>43.321</td>\n",
       "      <td>68.769</td>\n",
       "      <td>125.00</td>\n",
       "      <td>3.193739e+04</td>\n",
       "    </tr>\n",
       "    <tr>\n",
       "      <td>card1</td>\n",
       "      <td>590540.0</td>\n",
       "      <td>9.898735e+03</td>\n",
       "      <td>4.901170e+03</td>\n",
       "      <td>1000.000</td>\n",
       "      <td>6019.000</td>\n",
       "      <td>9678.000</td>\n",
       "      <td>14184.00</td>\n",
       "      <td>1.839600e+04</td>\n",
       "    </tr>\n",
       "    <tr>\n",
       "      <td>card2</td>\n",
       "      <td>581607.0</td>\n",
       "      <td>3.625555e+02</td>\n",
       "      <td>1.577932e+02</td>\n",
       "      <td>100.000</td>\n",
       "      <td>214.000</td>\n",
       "      <td>361.000</td>\n",
       "      <td>512.00</td>\n",
       "      <td>6.000000e+02</td>\n",
       "    </tr>\n",
       "    <tr>\n",
       "      <td>...</td>\n",
       "      <td>...</td>\n",
       "      <td>...</td>\n",
       "      <td>...</td>\n",
       "      <td>...</td>\n",
       "      <td>...</td>\n",
       "      <td>...</td>\n",
       "      <td>...</td>\n",
       "      <td>...</td>\n",
       "    </tr>\n",
       "    <tr>\n",
       "      <td>V335</td>\n",
       "      <td>82351.0</td>\n",
       "      <td>5.916455e+01</td>\n",
       "      <td>3.876295e+02</td>\n",
       "      <td>0.000</td>\n",
       "      <td>0.000</td>\n",
       "      <td>0.000</td>\n",
       "      <td>0.00</td>\n",
       "      <td>5.512500e+04</td>\n",
       "    </tr>\n",
       "    <tr>\n",
       "      <td>V336</td>\n",
       "      <td>82351.0</td>\n",
       "      <td>2.853090e+01</td>\n",
       "      <td>2.745769e+02</td>\n",
       "      <td>0.000</td>\n",
       "      <td>0.000</td>\n",
       "      <td>0.000</td>\n",
       "      <td>0.00</td>\n",
       "      <td>5.512500e+04</td>\n",
       "    </tr>\n",
       "    <tr>\n",
       "      <td>V337</td>\n",
       "      <td>82351.0</td>\n",
       "      <td>5.535242e+01</td>\n",
       "      <td>6.684868e+02</td>\n",
       "      <td>0.000</td>\n",
       "      <td>0.000</td>\n",
       "      <td>0.000</td>\n",
       "      <td>0.00</td>\n",
       "      <td>1.040600e+05</td>\n",
       "    </tr>\n",
       "    <tr>\n",
       "      <td>V338</td>\n",
       "      <td>82351.0</td>\n",
       "      <td>1.511605e+02</td>\n",
       "      <td>1.095034e+03</td>\n",
       "      <td>0.000</td>\n",
       "      <td>0.000</td>\n",
       "      <td>0.000</td>\n",
       "      <td>0.00</td>\n",
       "      <td>1.040600e+05</td>\n",
       "    </tr>\n",
       "    <tr>\n",
       "      <td>V339</td>\n",
       "      <td>82351.0</td>\n",
       "      <td>1.007009e+02</td>\n",
       "      <td>8.149467e+02</td>\n",
       "      <td>0.000</td>\n",
       "      <td>0.000</td>\n",
       "      <td>0.000</td>\n",
       "      <td>0.00</td>\n",
       "      <td>1.040600e+05</td>\n",
       "    </tr>\n",
       "  </tbody>\n",
       "</table>\n",
       "<p>379 rows × 8 columns</p>\n",
       "</div>"
      ],
      "text/plain": [
       "                   count          mean           std          min  \\\n",
       "TransactionID   590540.0  3.282270e+06  1.704744e+05  2987000.000   \n",
       "TransactionDT   590540.0  7.372311e+06  4.617224e+06    86400.000   \n",
       "TransactionAmt  590540.0  1.350272e+02  2.391625e+02        0.251   \n",
       "card1           590540.0  9.898735e+03  4.901170e+03     1000.000   \n",
       "card2           581607.0  3.625555e+02  1.577932e+02      100.000   \n",
       "...                  ...           ...           ...          ...   \n",
       "V335             82351.0  5.916455e+01  3.876295e+02        0.000   \n",
       "V336             82351.0  2.853090e+01  2.745769e+02        0.000   \n",
       "V337             82351.0  5.535242e+01  6.684868e+02        0.000   \n",
       "V338             82351.0  1.511605e+02  1.095034e+03        0.000   \n",
       "V339             82351.0  1.007009e+02  8.149467e+02        0.000   \n",
       "\n",
       "                        25%          50%          75%           max  \n",
       "TransactionID   3134634.750  3282269.500   3429904.25  3.577539e+06  \n",
       "TransactionDT   3027057.750  7306527.500  11246620.00  1.581113e+07  \n",
       "TransactionAmt       43.321       68.769       125.00  3.193739e+04  \n",
       "card1              6019.000     9678.000     14184.00  1.839600e+04  \n",
       "card2               214.000      361.000       512.00  6.000000e+02  \n",
       "...                     ...          ...          ...           ...  \n",
       "V335                  0.000        0.000         0.00  5.512500e+04  \n",
       "V336                  0.000        0.000         0.00  5.512500e+04  \n",
       "V337                  0.000        0.000         0.00  1.040600e+05  \n",
       "V338                  0.000        0.000         0.00  1.040600e+05  \n",
       "V339                  0.000        0.000         0.00  1.040600e+05  \n",
       "\n",
       "[379 rows x 8 columns]"
      ]
     },
     "execution_count": 6,
     "metadata": {},
     "output_type": "execute_result"
    }
   ],
   "source": [
    "train_transaction_df.describe().transpose()"
   ]
  },
  {
   "cell_type": "code",
   "execution_count": 7,
   "metadata": {},
   "outputs": [
    {
     "name": "stdout",
     "output_type": "stream",
     "text": [
      "Index(['dist2', 'R_emaildomain', 'D6', 'D7', 'D8', 'D9', 'D12', 'D13', 'D14',\n",
      "       'V138',\n",
      "       ...\n",
      "       'V330', 'V331', 'V332', 'V333', 'V334', 'V335', 'V336', 'V337', 'V338',\n",
      "       'V339'],\n",
      "      dtype='object', length=168)\n"
     ]
    }
   ],
   "source": [
    "# show drop columns \n",
    "\n",
    "missing_threshold = 0.6  #percentage of values missing to consider drop\n",
    "\n",
    "# missing_id_columns = train_id_df.isnull().sum()/len(train_id_df) \n",
    "# drop_columns =  (missing_id_columns[missing_id_columns > missing_threshold]).axes[0]\n",
    "# train_id_df.drop(drop_columns, axis=1, inplace=True)\n",
    "# test_id_df.drop(drop_columns, axis=1, inplace=True)\n",
    "# print(drop_columns)\n",
    "\n",
    "missing_transaction_columns = train_transaction_df.isnull().sum()/len(train_transaction_df) \n",
    "drop_columns =  (missing_transaction_columns[missing_transaction_columns > missing_threshold]).axes[0]\n",
    "train_transaction_df.drop(drop_columns, axis=1, inplace=True)\n",
    "test_transaction_df.drop(drop_columns, axis=1, inplace=True)\n",
    "print(drop_columns)"
   ]
  },
  {
   "cell_type": "code",
   "execution_count": 8,
   "metadata": {},
   "outputs": [],
   "source": [
    "# train_id_df.describe().transpose()"
   ]
  },
  {
   "cell_type": "code",
   "execution_count": 9,
   "metadata": {},
   "outputs": [
    {
     "data": {
      "text/html": [
       "<div>\n",
       "<style scoped>\n",
       "    .dataframe tbody tr th:only-of-type {\n",
       "        vertical-align: middle;\n",
       "    }\n",
       "\n",
       "    .dataframe tbody tr th {\n",
       "        vertical-align: top;\n",
       "    }\n",
       "\n",
       "    .dataframe thead th {\n",
       "        text-align: right;\n",
       "    }\n",
       "</style>\n",
       "<table border=\"1\" class=\"dataframe\">\n",
       "  <thead>\n",
       "    <tr style=\"text-align: right;\">\n",
       "      <th></th>\n",
       "      <th>TransactionID</th>\n",
       "      <th>TransactionDT</th>\n",
       "      <th>TransactionAmt</th>\n",
       "      <th>ProductCD</th>\n",
       "      <th>card1</th>\n",
       "      <th>card2</th>\n",
       "      <th>card3</th>\n",
       "      <th>card4</th>\n",
       "      <th>card5</th>\n",
       "      <th>card6</th>\n",
       "      <th>...</th>\n",
       "      <th>V312</th>\n",
       "      <th>V313</th>\n",
       "      <th>V314</th>\n",
       "      <th>V315</th>\n",
       "      <th>V316</th>\n",
       "      <th>V317</th>\n",
       "      <th>V318</th>\n",
       "      <th>V319</th>\n",
       "      <th>V320</th>\n",
       "      <th>V321</th>\n",
       "    </tr>\n",
       "  </thead>\n",
       "  <tbody>\n",
       "    <tr>\n",
       "      <td>0</td>\n",
       "      <td>2987000</td>\n",
       "      <td>86400</td>\n",
       "      <td>68.5</td>\n",
       "      <td>W</td>\n",
       "      <td>13926</td>\n",
       "      <td>NaN</td>\n",
       "      <td>150.0</td>\n",
       "      <td>discover</td>\n",
       "      <td>142.0</td>\n",
       "      <td>credit</td>\n",
       "      <td>...</td>\n",
       "      <td>0.0</td>\n",
       "      <td>0.0</td>\n",
       "      <td>0.0</td>\n",
       "      <td>0.0</td>\n",
       "      <td>0.0</td>\n",
       "      <td>117.0</td>\n",
       "      <td>0.0</td>\n",
       "      <td>0.0</td>\n",
       "      <td>0.0</td>\n",
       "      <td>0.0</td>\n",
       "    </tr>\n",
       "    <tr>\n",
       "      <td>1</td>\n",
       "      <td>2987001</td>\n",
       "      <td>86401</td>\n",
       "      <td>29.0</td>\n",
       "      <td>W</td>\n",
       "      <td>2755</td>\n",
       "      <td>404.0</td>\n",
       "      <td>150.0</td>\n",
       "      <td>mastercard</td>\n",
       "      <td>102.0</td>\n",
       "      <td>credit</td>\n",
       "      <td>...</td>\n",
       "      <td>0.0</td>\n",
       "      <td>0.0</td>\n",
       "      <td>0.0</td>\n",
       "      <td>0.0</td>\n",
       "      <td>0.0</td>\n",
       "      <td>0.0</td>\n",
       "      <td>0.0</td>\n",
       "      <td>0.0</td>\n",
       "      <td>0.0</td>\n",
       "      <td>0.0</td>\n",
       "    </tr>\n",
       "    <tr>\n",
       "      <td>2</td>\n",
       "      <td>2987002</td>\n",
       "      <td>86469</td>\n",
       "      <td>59.0</td>\n",
       "      <td>W</td>\n",
       "      <td>4663</td>\n",
       "      <td>490.0</td>\n",
       "      <td>150.0</td>\n",
       "      <td>visa</td>\n",
       "      <td>166.0</td>\n",
       "      <td>debit</td>\n",
       "      <td>...</td>\n",
       "      <td>0.0</td>\n",
       "      <td>0.0</td>\n",
       "      <td>0.0</td>\n",
       "      <td>0.0</td>\n",
       "      <td>0.0</td>\n",
       "      <td>0.0</td>\n",
       "      <td>0.0</td>\n",
       "      <td>0.0</td>\n",
       "      <td>0.0</td>\n",
       "      <td>0.0</td>\n",
       "    </tr>\n",
       "    <tr>\n",
       "      <td>3</td>\n",
       "      <td>2987003</td>\n",
       "      <td>86499</td>\n",
       "      <td>50.0</td>\n",
       "      <td>W</td>\n",
       "      <td>18132</td>\n",
       "      <td>567.0</td>\n",
       "      <td>150.0</td>\n",
       "      <td>mastercard</td>\n",
       "      <td>117.0</td>\n",
       "      <td>debit</td>\n",
       "      <td>...</td>\n",
       "      <td>135.0</td>\n",
       "      <td>0.0</td>\n",
       "      <td>0.0</td>\n",
       "      <td>0.0</td>\n",
       "      <td>50.0</td>\n",
       "      <td>1404.0</td>\n",
       "      <td>790.0</td>\n",
       "      <td>0.0</td>\n",
       "      <td>0.0</td>\n",
       "      <td>0.0</td>\n",
       "    </tr>\n",
       "    <tr>\n",
       "      <td>4</td>\n",
       "      <td>2987004</td>\n",
       "      <td>86506</td>\n",
       "      <td>50.0</td>\n",
       "      <td>H</td>\n",
       "      <td>4497</td>\n",
       "      <td>514.0</td>\n",
       "      <td>150.0</td>\n",
       "      <td>mastercard</td>\n",
       "      <td>102.0</td>\n",
       "      <td>credit</td>\n",
       "      <td>...</td>\n",
       "      <td>0.0</td>\n",
       "      <td>0.0</td>\n",
       "      <td>0.0</td>\n",
       "      <td>0.0</td>\n",
       "      <td>0.0</td>\n",
       "      <td>0.0</td>\n",
       "      <td>0.0</td>\n",
       "      <td>0.0</td>\n",
       "      <td>0.0</td>\n",
       "      <td>0.0</td>\n",
       "    </tr>\n",
       "  </tbody>\n",
       "</table>\n",
       "<p>5 rows × 225 columns</p>\n",
       "</div>"
      ],
      "text/plain": [
       "   TransactionID  TransactionDT  TransactionAmt ProductCD  card1  card2  \\\n",
       "0        2987000          86400            68.5         W  13926    NaN   \n",
       "1        2987001          86401            29.0         W   2755  404.0   \n",
       "2        2987002          86469            59.0         W   4663  490.0   \n",
       "3        2987003          86499            50.0         W  18132  567.0   \n",
       "4        2987004          86506            50.0         H   4497  514.0   \n",
       "\n",
       "   card3       card4  card5   card6  ...   V312  V313  V314 V315  V316  \\\n",
       "0  150.0    discover  142.0  credit  ...    0.0   0.0   0.0  0.0   0.0   \n",
       "1  150.0  mastercard  102.0  credit  ...    0.0   0.0   0.0  0.0   0.0   \n",
       "2  150.0        visa  166.0   debit  ...    0.0   0.0   0.0  0.0   0.0   \n",
       "3  150.0  mastercard  117.0   debit  ...  135.0   0.0   0.0  0.0  50.0   \n",
       "4  150.0  mastercard  102.0  credit  ...    0.0   0.0   0.0  0.0   0.0   \n",
       "\n",
       "     V317   V318  V319  V320  V321  \n",
       "0   117.0    0.0   0.0   0.0   0.0  \n",
       "1     0.0    0.0   0.0   0.0   0.0  \n",
       "2     0.0    0.0   0.0   0.0   0.0  \n",
       "3  1404.0  790.0   0.0   0.0   0.0  \n",
       "4     0.0    0.0   0.0   0.0   0.0  \n",
       "\n",
       "[5 rows x 225 columns]"
      ]
     },
     "execution_count": 9,
     "metadata": {},
     "output_type": "execute_result"
    }
   ],
   "source": [
    "train_transaction_df.head()"
   ]
  },
  {
   "cell_type": "code",
   "execution_count": 10,
   "metadata": {},
   "outputs": [],
   "source": [
    "#drop categorical cols\n",
    "# cat_cols = [cname for cname in train_id_df.columns if train_id_df[cname].dtype == 'object']\n",
    "\n",
    "# train_id_df.drop(cat_cols, axis=1, inplace=True)\n",
    "# test_id_df.drop(cat_cols, axis=1, inplace=True)\n",
    "\n",
    "\n",
    "cat_cols = [cname for cname in train_transaction_df.columns if train_transaction_df[cname].dtype == 'object']\n",
    "\n",
    "train_transaction_df.drop(cat_cols, axis=1, inplace=True)\n",
    "test_transaction_df.drop(cat_cols, axis=1, inplace=True)"
   ]
  },
  {
   "cell_type": "code",
   "execution_count": 11,
   "metadata": {},
   "outputs": [
    {
     "data": {
      "text/plain": [
       "Index(['TransactionID', 'TransactionDT', 'TransactionAmt', 'card1', 'card2',\n",
       "       'card3', 'card5', 'addr1', 'addr2', 'dist1',\n",
       "       ...\n",
       "       'V312', 'V313', 'V314', 'V315', 'V316', 'V317', 'V318', 'V319', 'V320',\n",
       "       'V321'],\n",
       "      dtype='object', length=212)"
      ]
     },
     "execution_count": 11,
     "metadata": {},
     "output_type": "execute_result"
    }
   ],
   "source": [
    "test_transaction_df.columns"
   ]
  },
  {
   "cell_type": "code",
   "execution_count": 12,
   "metadata": {},
   "outputs": [
    {
     "data": {
      "text/plain": [
       "Index(['TransactionID', 'TransactionDT', 'TransactionAmt', 'card1', 'card2',\n",
       "       'card3', 'card5', 'addr1', 'addr2', 'dist1',\n",
       "       ...\n",
       "       'V312', 'V313', 'V314', 'V315', 'V316', 'V317', 'V318', 'V319', 'V320',\n",
       "       'V321'],\n",
       "      dtype='object', length=212)"
      ]
     },
     "execution_count": 12,
     "metadata": {},
     "output_type": "execute_result"
    }
   ],
   "source": [
    "train_transaction_df.columns"
   ]
  },
  {
   "cell_type": "code",
   "execution_count": 13,
   "metadata": {},
   "outputs": [],
   "source": [
    "# impute missing values\n",
    "my_imputer = SimpleImputer(strategy='median')\n",
    "column_list = train_transaction_df.columns\n",
    "\n",
    "train_transaction_df = pd.DataFrame(my_imputer.fit_transform(train_transaction_df))\n",
    "train_transaction_df.columns = column_list\n",
    "\n",
    "test_transaction_df = pd.DataFrame(my_imputer.transform(test_transaction_df))\n",
    "test_transaction_df.columns = column_list"
   ]
  },
  {
   "cell_type": "code",
   "execution_count": 14,
   "metadata": {},
   "outputs": [],
   "source": [
    "# Scale values\n",
    "my_scaler = StandardScaler()\n",
    "\n",
    "train_transaction_df = pd.DataFrame(my_scaler.fit_transform(train_transaction_df))\n",
    "train_transaction_df.columns = column_list\n",
    "\n",
    "test_transaction_df = pd.DataFrame(my_scaler.transform(test_transaction_df))\n",
    "test_transaction_df.columns = column_list\n"
   ]
  },
  {
   "cell_type": "code",
   "execution_count": 15,
   "metadata": {},
   "outputs": [
    {
     "data": {
      "text/plain": [
       "TransactionID     0.0\n",
       "TransactionDT     0.0\n",
       "TransactionAmt    0.0\n",
       "card1             0.0\n",
       "card2             0.0\n",
       "                 ... \n",
       "V317              0.0\n",
       "V318              0.0\n",
       "V319              0.0\n",
       "V320              0.0\n",
       "V321              0.0\n",
       "Length: 212, dtype: float64"
      ]
     },
     "execution_count": 15,
     "metadata": {},
     "output_type": "execute_result"
    }
   ],
   "source": [
    "missing_transaction_columns = train_transaction_df.isnull().sum()/len(train_transaction_df) \n",
    "missing_transaction_columns"
   ]
  },
  {
   "cell_type": "code",
   "execution_count": 16,
   "metadata": {},
   "outputs": [],
   "source": [
    "# #convert low cardinality categorical columns and drop high cardinality categorical colums\n",
    "\n",
    "# cardinality_threshold =  10\n",
    "\n",
    "# cat_id_cols = [cname for cname in train_id_df.columns if train_id_df[cname].dtype == 'object']\n",
    "# low_id_cat_cols = [cname for cname in cat_id_cols if train_id_df[cname].nunique() < cardinality_threshold]\n",
    "# high_id_cat_cols = list(set(cat_id_cols) - set(low_id_cat_cols))\n",
    "\n",
    "# print(high_id_cat_cols)\n",
    "\n",
    "# train_id_df.drop(high_id_cat_cols, axis=1, inplace=True)\n",
    "# test_id_df.drop(high_id_cat_cols, axis=1, inplace=True)\n",
    "\n",
    "\n",
    "# cat_cols = [cname for cname in train_transaction_df.columns if train_transaction_df[cname].dtype == 'object']\n",
    "# low_cat_cols = [cname for cname in cat_cols if train_transaction_df[cname].nunique() < cardinality_threshold]\n",
    "# high_cat_cols = list(set(cat_cols) - set(low_cat_cols))\n",
    "\n",
    "\n",
    "# print(high_cat_cols)\n",
    "\n",
    "# train_transaction_df.drop(high_cat_cols, axis=1, inplace=True)\n",
    "# test_transaction_df.drop(high_cat_cols, axis=1, inplace=True)\n"
   ]
  },
  {
   "cell_type": "code",
   "execution_count": 17,
   "metadata": {
    "scrolled": true
   },
   "outputs": [],
   "source": [
    "# # One hot encoder\n",
    "# oh_encoder = OneHotEncoder(handle_unknown='ignore', sparse=False)\n",
    "# oh_cols_train = pd.DataFrame(oh_encoder.fit_transform(train_transaction_df[low_cat_cols]))\n",
    "\n"
   ]
  },
  {
   "cell_type": "code",
   "execution_count": 18,
   "metadata": {},
   "outputs": [],
   "source": [
    "# Exclude high correlation\n",
    "transaction_corr = train_transaction_df.corr().abs()\n"
   ]
  },
  {
   "cell_type": "code",
   "execution_count": 19,
   "metadata": {},
   "outputs": [],
   "source": [
    "high_corr_threshold = 0.60\n",
    "upper_transaction_corr = transaction_corr.where(np.triu(np.ones(transaction_corr.shape), k=1).astype(np.bool))\n",
    "to_drop = [col for col in upper_transaction_corr.columns if any(upper_transaction_corr[col] > high_corr_threshold)]\n"
   ]
  },
  {
   "cell_type": "code",
   "execution_count": 20,
   "metadata": {},
   "outputs": [],
   "source": [
    "train_transaction_df.drop(to_drop, axis=1, inplace=True)"
   ]
  },
  {
   "cell_type": "code",
   "execution_count": 21,
   "metadata": {},
   "outputs": [],
   "source": [
    "def score_dataset(X_train, X_valid, y_train, y_valid):\n",
    "    model = RandomForestRegressor(n_estimators=100, random_state=0)\n",
    "    model.fit(X_train, y_train)\n",
    "    preds = model.predict(X_valid)\n",
    "    return mean_absolute_error(y_valid, preds)"
   ]
  },
  {
   "cell_type": "code",
   "execution_count": 22,
   "metadata": {},
   "outputs": [
    {
     "name": "stderr",
     "output_type": "stream",
     "text": [
      "C:\\Anaconda3\\lib\\site-packages\\pandas\\core\\frame.py:4102: SettingWithCopyWarning: \n",
      "A value is trying to be set on a copy of a slice from a DataFrame\n",
      "\n",
      "See the caveats in the documentation: http://pandas.pydata.org/pandas-docs/stable/user_guide/indexing.html#returning-a-view-versus-a-copy\n",
      "  errors=errors,\n"
     ]
    }
   ],
   "source": [
    "train_ratio = 0.8\n",
    "\n",
    "train_ids = train_transaction_df.TransactionID\n",
    "y = train_transaction_y\n",
    "X = train_transaction_df\n",
    "\n",
    "X_train, X_valid, y_train, y_valid = train_test_split(X, y, train_size=train_ratio, test_size=1-train_ratio,\n",
    "                                                      random_state=0)\n",
    "X_train_ids = X_train['TransactionID']\n",
    "X_valid_ids = X_valid['TransactionID']\n",
    "\n",
    "X_train.drop('TransactionID', axis=1, inplace=True)\n",
    "X_valid.drop('TransactionID', axis=1, inplace=True)"
   ]
  },
  {
   "cell_type": "code",
   "execution_count": 23,
   "metadata": {},
   "outputs": [
    {
     "data": {
      "text/plain": [
       "0.04018570323332449"
      ]
     },
     "execution_count": 23,
     "metadata": {},
     "output_type": "execute_result"
    }
   ],
   "source": [
    "model_rf = RandomForestRegressor(n_estimators=50, random_state=0, n_jobs=-1)\n",
    "model_rf.fit(X_train, y_train)\n",
    "preds = model_rf.predict(X_valid)\n",
    "mean_absolute_error(y_valid, preds)"
   ]
  },
  {
   "cell_type": "code",
   "execution_count": 24,
   "metadata": {},
   "outputs": [
    {
     "name": "stderr",
     "output_type": "stream",
     "text": [
      "C:\\Anaconda3\\lib\\site-packages\\sklearn\\metrics\\ranking.py:659: UndefinedMetricWarning: No positive samples in y_true, true positive value should be meaningless\n",
      "  UndefinedMetricWarning)\n"
     ]
    }
   ],
   "source": [
    "from sklearn import metrics\n",
    "fpr, tpr, thresholds = metrics.roc_curve(y_valid, preds, pos_label=2)"
   ]
  },
  {
   "cell_type": "code",
   "execution_count": 25,
   "metadata": {},
   "outputs": [
    {
     "name": "stderr",
     "output_type": "stream",
     "text": [
      "[Parallel(n_jobs=-1)]: Using backend LokyBackend with 8 concurrent workers.\n",
      "[Parallel(n_jobs=-1)]: Done   1 out of   1 | elapsed:   33.6s finished\n"
     ]
    },
    {
     "data": {
      "text/plain": [
       "0.033122227114166694"
      ]
     },
     "execution_count": 25,
     "metadata": {},
     "output_type": "execute_result"
    }
   ],
   "source": [
    "model_lg = LogisticRegression(tol=1e-4, solver='lbfgs', random_state=0, n_jobs=-1, max_iter=1000, verbose=1)\n",
    "model_lg.fit(X_train, y_train)\n",
    "preds = model_lg.predict(X_valid)\n",
    "mean_absolute_error(y_valid, preds)"
   ]
  },
  {
   "cell_type": "code",
   "execution_count": 29,
   "metadata": {},
   "outputs": [
    {
     "data": {
      "text/html": [
       "<div>\n",
       "<style scoped>\n",
       "    .dataframe tbody tr th:only-of-type {\n",
       "        vertical-align: middle;\n",
       "    }\n",
       "\n",
       "    .dataframe tbody tr th {\n",
       "        vertical-align: top;\n",
       "    }\n",
       "\n",
       "    .dataframe thead th {\n",
       "        text-align: right;\n",
       "    }\n",
       "</style>\n",
       "<table border=\"1\" class=\"dataframe\">\n",
       "  <thead>\n",
       "    <tr style=\"text-align: right;\">\n",
       "      <th></th>\n",
       "      <th>0</th>\n",
       "      <th>1</th>\n",
       "    </tr>\n",
       "  </thead>\n",
       "  <tbody>\n",
       "    <tr>\n",
       "      <td>0</td>\n",
       "      <td>0.970186</td>\n",
       "      <td>0.029814</td>\n",
       "    </tr>\n",
       "    <tr>\n",
       "      <td>1</td>\n",
       "      <td>0.960551</td>\n",
       "      <td>0.039449</td>\n",
       "    </tr>\n",
       "    <tr>\n",
       "      <td>2</td>\n",
       "      <td>0.947688</td>\n",
       "      <td>0.052312</td>\n",
       "    </tr>\n",
       "    <tr>\n",
       "      <td>3</td>\n",
       "      <td>0.960576</td>\n",
       "      <td>0.039424</td>\n",
       "    </tr>\n",
       "    <tr>\n",
       "      <td>4</td>\n",
       "      <td>0.980347</td>\n",
       "      <td>0.019653</td>\n",
       "    </tr>\n",
       "    <tr>\n",
       "      <td>...</td>\n",
       "      <td>...</td>\n",
       "      <td>...</td>\n",
       "    </tr>\n",
       "    <tr>\n",
       "      <td>118103</td>\n",
       "      <td>0.953204</td>\n",
       "      <td>0.046796</td>\n",
       "    </tr>\n",
       "    <tr>\n",
       "      <td>118104</td>\n",
       "      <td>0.972562</td>\n",
       "      <td>0.027438</td>\n",
       "    </tr>\n",
       "    <tr>\n",
       "      <td>118105</td>\n",
       "      <td>0.971808</td>\n",
       "      <td>0.028192</td>\n",
       "    </tr>\n",
       "    <tr>\n",
       "      <td>118106</td>\n",
       "      <td>0.960720</td>\n",
       "      <td>0.039280</td>\n",
       "    </tr>\n",
       "    <tr>\n",
       "      <td>118107</td>\n",
       "      <td>0.977489</td>\n",
       "      <td>0.022511</td>\n",
       "    </tr>\n",
       "  </tbody>\n",
       "</table>\n",
       "<p>118108 rows × 2 columns</p>\n",
       "</div>"
      ],
      "text/plain": [
       "               0         1\n",
       "0       0.970186  0.029814\n",
       "1       0.960551  0.039449\n",
       "2       0.947688  0.052312\n",
       "3       0.960576  0.039424\n",
       "4       0.980347  0.019653\n",
       "...          ...       ...\n",
       "118103  0.953204  0.046796\n",
       "118104  0.972562  0.027438\n",
       "118105  0.971808  0.028192\n",
       "118106  0.960720  0.039280\n",
       "118107  0.977489  0.022511\n",
       "\n",
       "[118108 rows x 2 columns]"
      ]
     },
     "execution_count": 29,
     "metadata": {},
     "output_type": "execute_result"
    }
   ],
   "source": [
    "preds = model_lg.predict_proba(X_valid)\n",
    "preds_df = pd.DataFrame(preds)\n",
    "preds_df\n",
    "#preds = model_lg.predict_proba(X_valid)\n",
    "#mean_absolute_error(y_valid, preds)"
   ]
  },
  {
   "cell_type": "code",
   "execution_count": 27,
   "metadata": {},
   "outputs": [],
   "source": [
    "from sklearn import metrics\n",
    "fpr, tpr, thresholds = metrics.roc_curve(y_valid, preds, pos_label=1)"
   ]
  },
  {
   "cell_type": "code",
   "execution_count": 30,
   "metadata": {},
   "outputs": [
    {
     "data": {
      "text/plain": [
       "0         0.029814\n",
       "1         0.039449\n",
       "2         0.052312\n",
       "3         0.039424\n",
       "4         0.019653\n",
       "            ...   \n",
       "118103    0.046796\n",
       "118104    0.027438\n",
       "118105    0.028192\n",
       "118106    0.039280\n",
       "118107    0.022511\n",
       "Name: 1, Length: 118108, dtype: float64"
      ]
     },
     "execution_count": 30,
     "metadata": {},
     "output_type": "execute_result"
    }
   ],
   "source": [
    "pd.DataFrame(preds)[1]"
   ]
  },
  {
   "cell_type": "code",
   "execution_count": 31,
   "metadata": {},
   "outputs": [
    {
     "data": {
      "text/plain": [
       "249"
      ]
     },
     "execution_count": 31,
     "metadata": {},
     "output_type": "execute_result"
    }
   ],
   "source": [
    "y_valid_df = pd.DataFrame(y_valid)\n",
    "y_valid_df.reset_index(inplace=True)\n",
    "y_valid_df.drop('index', axis=1, inplace=True)\n",
    "\n",
    "result =pd.concat([pd.DataFrame(preds)[1], y_valid_df], axis=1)\n",
    "\n",
    "# Check how many fraud cases have predicted probability > 0.5\n",
    "len(result[(result.isFraud == 1) & (result[1] > 0.5)])"
   ]
  },
  {
   "cell_type": "code",
   "execution_count": null,
   "metadata": {},
   "outputs": [],
   "source": [
    "model_xg = XGBClassifier()\n",
    "model_xg.fit(X_train, y_train)\n",
    "preds = model_xg.predict(X_valid)\n",
    "mean_absolute_error(y_valid, preds)"
   ]
  },
  {
   "cell_type": "code",
   "execution_count": null,
   "metadata": {},
   "outputs": [],
   "source": [
    "preds_df = pd.DataFrame(preds)\n",
    "y_valid_df = pd.DataFrame(y_valid)\n",
    "y_valid_df.reset_index(inplace=True)\n",
    "y_valid_df.drop('index', axis=1, inplace=True)\n",
    "\n",
    "result =pd.concat([preds_df, y_valid_df], axis=1)\n",
    "\n",
    "# Check how many fraud cases have predicted probability > 0.5\n",
    "len(result[(result.isFraud == 1) & (result[0] > 0.5)])"
   ]
  },
  {
   "cell_type": "code",
   "execution_count": null,
   "metadata": {
    "scrolled": true
   },
   "outputs": [],
   "source": [
    "test_ids = test_transaction_df.TransactionID\n",
    "X_test = test_transaction_df[X.columns]\n",
    "X_test.drop('TransactionID', axis=1, inplace=True)\n",
    "\n",
    "X_test.shape"
   ]
  },
  {
   "cell_type": "code",
   "execution_count": null,
   "metadata": {},
   "outputs": [],
   "source": [
    "test_pred_df = pd.DataFrame(model_xg.predict_proba(X_test))"
   ]
  },
  {
   "cell_type": "code",
   "execution_count": null,
   "metadata": {},
   "outputs": [],
   "source": [
    "pd.DataFrame(test_ids)\n",
    "output_df = pd.concat([pd.DataFrame(test_ids), test_pred_df[1]], axis=1)"
   ]
  },
  {
   "cell_type": "code",
   "execution_count": null,
   "metadata": {},
   "outputs": [],
   "source": [
    "output_df.columns = ['TransactionID', 'isFraud']\n",
    "output_df['TransactionID'] = output_df['TransactionID'].astype(int)\n",
    "output_df.to_csv('submission.csv', index=False)"
   ]
  },
  {
   "cell_type": "code",
   "execution_count": null,
   "metadata": {},
   "outputs": [],
   "source": []
  }
 ],
 "metadata": {
  "kernelspec": {
   "display_name": "Python 3",
   "language": "python",
   "name": "python3"
  },
  "language_info": {
   "codemirror_mode": {
    "name": "ipython",
    "version": 3
   },
   "file_extension": ".py",
   "mimetype": "text/x-python",
   "name": "python",
   "nbconvert_exporter": "python",
   "pygments_lexer": "ipython3",
   "version": "3.6.5"
  }
 },
 "nbformat": 4,
 "nbformat_minor": 2
}
